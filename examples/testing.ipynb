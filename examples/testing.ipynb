{
 "cells": [
  {
   "cell_type": "code",
   "execution_count": 1,
   "metadata": {},
   "outputs": [],
   "source": [
    "import string\n",
    "CHARS = list(string.ascii_lowercase)"
   ]
  },
  {
   "cell_type": "code",
   "execution_count": 2,
   "metadata": {},
   "outputs": [],
   "source": [
    "import numpy as np\n",
    "from numpy.random import choice as random_choice, randint as random_randint, shuffle as random_shuffle, seed as random_seed, rand\n",
    "from numpy import zeros as np_zeros # pylint:disable=no-name-in-module\n",
    "\n",
    "max_input_len = 10\n",
    "\n",
    "def add_noise_to_string(a_string, amount_of_noise):\n",
    "    \"\"\"Add some artificial spelling mistakes to the string\"\"\"\n",
    "    if rand() < amount_of_noise * len(a_string):\n",
    "        # Replace a character with a random character\n",
    "        random_char_position = random_randint(len(a_string))\n",
    "        a_string = a_string[:random_char_position] + random_choice(CHARS[:-1]) + a_string[random_char_position + 1:]\n",
    "    if rand() < amount_of_noise * len(a_string):\n",
    "        # Delete a character\n",
    "        random_char_position = random_randint(len(a_string))\n",
    "        a_string = a_string[:random_char_position] + a_string[random_char_position + 1:]\n",
    "    if len(a_string) < max_input_len and rand() < amount_of_noise * len(a_string):\n",
    "        # Add a random character\n",
    "        random_char_position = random_randint(len(a_string))\n",
    "        a_string = a_string[:random_char_position] + random_choice(CHARS[:-1]) + a_string[random_char_position:]\n",
    "    if rand() < amount_of_noise * len(a_string):\n",
    "        # Transpose 2 characters\n",
    "        random_char_position = random_randint(len(a_string) - 1)\n",
    "        a_string = (a_string[:random_char_position] + a_string[random_char_position + 1] + a_string[random_char_position] +\n",
    "                    a_string[random_char_position + 2:])\n",
    "    return a_string"
   ]
  },
  {
   "cell_type": "code",
   "execution_count": 8,
   "metadata": {},
   "outputs": [
    {
     "name": "stdout",
     "output_type": "stream",
     "text": [
      "impresstve\n",
      "imressive\n",
      "impresive\n",
      "ympresisve\n",
      "impressvie\n",
      "impressive\n",
      "mipessive\n",
      "imresskive\n",
      "impressive\n",
      "imresgsive\n"
     ]
    }
   ],
   "source": [
    "for i in range(10):\n",
    "    print(add_noise_to_string('impressive',0.03))"
   ]
  }
 ],
 "metadata": {
  "kernelspec": {
   "display_name": "Python 3",
   "language": "python",
   "name": "python3"
  },
  "language_info": {
   "codemirror_mode": {
    "name": "ipython",
    "version": 3
   },
   "file_extension": ".py",
   "mimetype": "text/x-python",
   "name": "python",
   "nbconvert_exporter": "python",
   "pygments_lexer": "ipython3",
   "version": "3.7.0"
  }
 },
 "nbformat": 4,
 "nbformat_minor": 2
}
